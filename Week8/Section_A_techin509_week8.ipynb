{
  "nbformat": 4,
  "nbformat_minor": 0,
  "metadata": {
    "colab": {
      "provenance": []
    },
    "kernelspec": {
      "name": "python3",
      "display_name": "Python 3"
    },
    "language_info": {
      "name": "python"
    }
  },
  "cells": [
    {
      "cell_type": "markdown",
      "source": [
        "# Object Oriented Programming\n",
        "- Without OOP: Dictionaries and Named tuples ( min)\n",
        "- With OOP: Classes ( min)\n",
        "- Encapsulation ( min)\n",
        "- Abstractions and Inversion of Control ( min)\n",
        "- Dependency Injection ( min)\n",
        "- Polymorphic Players ( min)\n",
        "\n",
        "\n",
        "\n",
        "\n"
      ],
      "metadata": {
        "id": "2ykAsavrWsVF"
      }
    },
    {
      "cell_type": "markdown",
      "source": [
        "# Programming Paradigms\n",
        "\n",
        "## Procedural Programming\n",
        "\n",
        "- So far we focused on writing instructions for the computer to execute.\n",
        "- It follows a top down approach (think of the overall flow first, then write the instructions)\n",
        "- The program is built with **functions** and **variables**\n",
        "- It's difficult to build complex and modular software\n",
        "\n",
        "**Software is not just about instructions, it's about data.**\n",
        "\n",
        "## Object Oriented Programming\n",
        "\n",
        "- Our world is composed of a vast array of objects\n",
        "- It's the unit that makes the most sense to organize data\n",
        "- Objects have **attributes** and some logic that can manipulate the data (**methods**)\n",
        "- The program is model around how differnt objects interact with each other through calling the objects' methods (**message passing**)\n",
        "\n",
        "## Examples\n",
        "\n",
        "1. Simple Program\n",
        "\n",
        "    Write a program that asks for a number and then prints its square root.\n",
        "\n",
        "2. Real world program\n",
        "\n",
        "    A video streaming platform allows users to upload and watch videos. The platform records each video, the uploader's username, and the upload timestamp. Users can then browse and watch videos that have been uploaded by others and even leave comments on them."
      ],
      "metadata": {
        "id": "Izs2yIHaoNDc"
      }
    },
    {
      "cell_type": "markdown",
      "source": [
        "# Organizing data without OOP"
      ],
      "metadata": {
        "id": "hgDJkGuk0cpr"
      }
    },
    {
      "cell_type": "markdown",
      "source": [
        "## Dictionaries"
      ],
      "metadata": {
        "id": "EiKnx3qT-JdE"
      }
    },
    {
      "cell_type": "code",
      "source": [
        "# dictionaries\n",
        "\n",
        "phone_numbers = {\n",
        "    'Steve': '432-345-2433'\n",
        "}\n",
        "print(phone_numbers)\n",
        "\n",
        "# Key : Steve\n",
        "# Value : 432-345-2433\n",
        "# Entry : 'Steve' -> '432-345-2433'\n",
        "\n",
        "print(phone_numbers['Steve'])\n",
        "print(phone_numbers.get('Steve'))\n",
        "print(phone_numbers.get('Joe'))\n",
        "print(phone_numbers.get('Joe','unknown'))\n",
        "\n",
        "phone_numbers['Steve']='000-000-0000'\n",
        "print(phone_numbers)\n",
        "del phone_numbers['Steve']\n",
        "print(len(phone_numbers))"
      ],
      "metadata": {
        "id": "i1m2kCvOXwtg",
        "colab": {
          "base_uri": "https://localhost:8080/"
        },
        "outputId": "bd39c2ff-af88-417c-91d2-190bda67320d"
      },
      "execution_count": null,
      "outputs": [
        {
          "output_type": "stream",
          "name": "stdout",
          "text": [
            "{'Steve': '432-345-2433'}\n",
            "432-345-2433\n",
            "432-345-2433\n",
            "None\n",
            "unknown\n",
            "{'Steve': '000-000-0000'}\n",
            "0\n"
          ]
        }
      ]
    },
    {
      "cell_type": "markdown",
      "source": [
        "## Named tuples"
      ],
      "metadata": {
        "id": "xy6wMfHw-MnM"
      }
    },
    {
      "cell_type": "code",
      "source": [
        "# Named Tuples\n",
        "from collections import namedtuple\n",
        "\n",
        "Person = namedtuple('Person',['name','phone'])\n",
        "steve = Person('Steve','123')\n",
        "print(steve.name,steve.phone)"
      ],
      "metadata": {
        "id": "Qoo-IEEYHsJ4",
        "colab": {
          "base_uri": "https://localhost:8080/"
        },
        "outputId": "4f31dce4-3df8-4c5b-ec25-2a1d4dff8acc"
      },
      "execution_count": null,
      "outputs": [
        {
          "output_type": "stream",
          "name": "stdout",
          "text": [
            "Steve 123\n"
          ]
        }
      ]
    },
    {
      "cell_type": "markdown",
      "source": [
        "# Organizing data with OOP"
      ],
      "metadata": {
        "id": "NJXt4EvB0jyr"
      }
    },
    {
      "cell_type": "markdown",
      "source": [
        "## Classes\n",
        "\n",
        "A class is a blueprint for creating objects"
      ],
      "metadata": {
        "id": "P0N8PKG3-Pyk"
      }
    },
    {
      "cell_type": "code",
      "source": [
        "class Dog:\n",
        "  name = None\n",
        "\n",
        "class Cat:\n",
        "  name = None\n",
        "\n",
        "dog = Dog()\n",
        "dog.name = 'Fido'\n",
        "\n",
        "cat = Cat()\n",
        "cat.name = 'Fluffy'\n",
        "\n",
        "print(dog.name)\n",
        "print(cat.name)\n",
        "\n",
        "print(isinstance(dog,Dog))"
      ],
      "metadata": {
        "id": "m0UlModIXxI7",
        "colab": {
          "base_uri": "https://localhost:8080/"
        },
        "outputId": "7be48cea-262d-4d3f-8220-834e95c924fb"
      },
      "execution_count": null,
      "outputs": [
        {
          "output_type": "stream",
          "name": "stdout",
          "text": [
            "Fido\n",
            "Fluffy\n",
            "True\n"
          ]
        }
      ]
    },
    {
      "cell_type": "markdown",
      "source": [
        "## Practice Exercise"
      ],
      "metadata": {
        "id": "ih1QJoyGEI05"
      }
    },
    {
      "cell_type": "code",
      "source": [
        "# define a class to represent a table with properties color and shape\n",
        "# assign strings to color and shape\n",
        "class Table:\n",
        "    def __init__(self,color,shape):\n",
        "        self.color = color\n",
        "        self.shape = shape\n",
        "\n",
        "    def __str__(self):\n",
        "        return f\"This table is {self.color} and {self.shape}.\"\n",
        "\n",
        "table = Table(color=\"brown\", shape=\"square\")\n",
        "print(table)"
      ],
      "metadata": {
        "id": "nA1SOP05Di7K",
        "colab": {
          "base_uri": "https://localhost:8080/"
        },
        "outputId": "e16eaf7e-d0d7-4270-c5d0-adf332236ace"
      },
      "execution_count": null,
      "outputs": [
        {
          "output_type": "stream",
          "name": "stdout",
          "text": [
            "This table is brown and square.\n"
          ]
        }
      ]
    },
    {
      "cell_type": "markdown",
      "source": [
        "## Initializers\n",
        "\n",
        "Initializers are called when creating a new instance of a Class."
      ],
      "metadata": {
        "id": "BCltHQBuWswK"
      }
    },
    {
      "cell_type": "code",
      "source": [
        "class Dog:\n",
        "  def __init__(self,name):\n",
        "    self.name = name\n",
        "\n",
        "class Cat:\n",
        "  def __init__(self,name):\n",
        "    self.name = name\n",
        "\n",
        "dog = Dog('Fido')\n",
        "cat = Cat('Fluffy')\n",
        "\n",
        "print(dog.name,'and',cat.name)\n",
        "\n",
        "print(isinstance(dog,Dog))"
      ],
      "metadata": {
        "id": "oU-T5gg1XxoI",
        "colab": {
          "base_uri": "https://localhost:8080/"
        },
        "outputId": "92221075-1bb7-4e4b-d429-1957c9c19d12"
      },
      "execution_count": null,
      "outputs": [
        {
          "output_type": "stream",
          "name": "stdout",
          "text": [
            "Fido and Fluffy\n",
            "True\n"
          ]
        }
      ]
    },
    {
      "cell_type": "markdown",
      "source": [
        "## Polymorphism\n",
        "\n",
        "Polymorphism allows different types of objects to pass through the same interface."
      ],
      "metadata": {
        "id": "mGy4SHR4Ws3D"
      }
    },
    {
      "cell_type": "code",
      "source": [
        "# the function speak checks what kind of animal it is\n",
        "\n",
        "def speak(animal):\n",
        "  if isinstance(animal, Dog):\n",
        "    print('Woof!')\n",
        "  elif isinstance(animal,Cat):\n",
        "    print('meow')\n",
        "  else:\n",
        "    assert False, 'Unexpected type of animal'\n",
        "\n",
        "speak(dog)\n",
        "speak(cat)"
      ],
      "metadata": {
        "id": "f4oCynuXXycj",
        "colab": {
          "base_uri": "https://localhost:8080/"
        },
        "outputId": "1df8b7e9-5c05-4ef1-e3b6-bd7fb2d61e91"
      },
      "execution_count": null,
      "outputs": [
        {
          "output_type": "stream",
          "name": "stdout",
          "text": [
            "Woof!\n",
            "meow\n"
          ]
        }
      ]
    },
    {
      "cell_type": "code",
      "source": [
        "# the classes each implement the speak function\n",
        "\n",
        "# abc (abstract base class)\n",
        "class Animal:\n",
        "    def speak(self):\n",
        "        pass\n",
        "\n",
        "class Dog:\n",
        "  def __init__(self,name):\n",
        "    self.name = name\n",
        "  def speak(self):\n",
        "    print('Woof!')\n",
        "\n",
        "class Cat:\n",
        "  def __init__(self,name):\n",
        "    self.name = name\n",
        "  def speak(self):\n",
        "    print('meow')\n",
        "\n",
        "# animal = get_animal()\n",
        "# animal.speak()\n",
        "\n",
        "dog = Dog('Fido')\n",
        "cat = Cat('Fluffy')\n",
        "\n",
        "dog.speak()\n",
        "cat.speak()"
      ],
      "metadata": {
        "colab": {
          "base_uri": "https://localhost:8080/"
        },
        "id": "F_ffF_ORf-LK",
        "outputId": "2bd86ff4-e4aa-4a56-b4fc-674ad5e366c9"
      },
      "execution_count": null,
      "outputs": [
        {
          "output_type": "stream",
          "name": "stdout",
          "text": [
            "Woof!\n",
            "meow\n"
          ]
        }
      ]
    },
    {
      "cell_type": "markdown",
      "source": [
        "## Builtin method polymorphism using __str__ for print()"
      ],
      "metadata": {
        "id": "6R2FeVOkWs_4"
      }
    },
    {
      "cell_type": "code",
      "source": [
        "class Car:\n",
        "  def __init__(self, year, make):\n",
        "    self.year = year\n",
        "    self.make = make\n",
        "\n",
        "  def __str__(self):\n",
        "    return str(self.year) + ' ' + str(self.make)\n",
        "\n",
        "print(str(Car(2016, 'Mazda')))\n",
        "\n",
        "print(Car(2021, 'Honda'), 123, 'x')\n"
      ],
      "metadata": {
        "id": "k1JtomBvXz7T",
        "colab": {
          "base_uri": "https://localhost:8080/"
        },
        "outputId": "69526bfc-70e5-4f54-ab4b-7db76682f3e8"
      },
      "execution_count": null,
      "outputs": [
        {
          "output_type": "stream",
          "name": "stdout",
          "text": [
            "2016 Mazda\n",
            "2021 Honda 123 x\n"
          ]
        }
      ]
    },
    {
      "cell_type": "markdown",
      "source": [
        "## Subclasses and Inheritance\n",
        "Creating a class with another class as a parameter allow the subclass to inherit the methods and properties of the parent class."
      ],
      "metadata": {
        "id": "Kz_oj6o7Ws6G"
      }
    },
    {
      "cell_type": "code",
      "source": [
        "class Animal:\n",
        "  def __init__(self,name):\n",
        "    self.name = name\n",
        "  def speak(self):\n",
        "    print(self.name,'says',self.sound)\n",
        "\n",
        "class Dog(Animal):\n",
        "  sound = 'Woof!'\n",
        "\n",
        "class Cat(Animal):\n",
        "  sound = 'meow'\n",
        "\n",
        "dog = Dog('Fido')\n",
        "cat = Cat('Fluffy')\n",
        "\n",
        "dog.speak()\n",
        "cat.speak()"
      ],
      "metadata": {
        "id": "zsvQF1UAXy3i",
        "colab": {
          "base_uri": "https://localhost:8080/"
        },
        "outputId": "d3238d83-7f98-4f24-92b5-9d5e65a00a26"
      },
      "execution_count": null,
      "outputs": [
        {
          "output_type": "stream",
          "name": "stdout",
          "text": [
            "Fido says Woof!\n",
            "Fluffy says meow\n"
          ]
        }
      ]
    },
    {
      "cell_type": "markdown",
      "source": [
        "## Methods as sending messages, Objects as machines\n",
        "Methods can be used to instantiate actions, similar to sending a message to do smoething. Because objects like classes can maintain their own internal values, they have 'state'. In the Counter object example, a method is used to update the state of the Counter 'machine'."
      ],
      "metadata": {
        "id": "B3ZBrB00WtCt"
      }
    },
    {
      "cell_type": "code",
      "source": [
        "dog.speak()"
      ],
      "metadata": {
        "id": "De9Or89FX0aO",
        "colab": {
          "base_uri": "https://localhost:8080/"
        },
        "outputId": "78c4233b-1bb3-4fa0-9514-e10e604373e0"
      },
      "execution_count": null,
      "outputs": [
        {
          "output_type": "stream",
          "name": "stdout",
          "text": [
            "Fido says Woof!\n"
          ]
        }
      ]
    },
    {
      "cell_type": "code",
      "source": [
        "# mycar is an instance of Car, and we can give it 'state'\n",
        "mycar = Car(2014,'Honda')\n",
        "print(mycar)\n",
        "# I can sell my car, thankfully, and change the 'state'\n",
        "mycar = Car(2023,'Ferrari')\n",
        "print(mycar)"
      ],
      "metadata": {
        "id": "RdXFBvkaX03j",
        "colab": {
          "base_uri": "https://localhost:8080/"
        },
        "outputId": "86b165da-93f3-4807-c088-b601e5fe406e"
      },
      "execution_count": null,
      "outputs": [
        {
          "output_type": "stream",
          "name": "stdout",
          "text": [
            "2014 Honda\n",
            "2023 Ferrari\n"
          ]
        }
      ]
    },
    {
      "cell_type": "markdown",
      "source": [
        "## Counter object example"
      ],
      "metadata": {
        "id": "kJqNwlvbWtJo"
      }
    },
    {
      "cell_type": "code",
      "source": [
        "class Counter:\n",
        "  count = 0\n",
        "\n",
        "  def reset(self):\n",
        "    self.count = 0\n",
        "\n",
        "  def click(self):\n",
        "    self.count = self.count + 1\n",
        "\n",
        "sheep = Counter()\n",
        "print('Initial:',sheep.count)\n",
        "\n",
        "sheep.click()\n",
        "sheep.click()\n",
        "sheep.click()\n",
        "print('After counting',sheep.count)\n",
        "\n",
        "sheep.reset()\n",
        "print('After reset:',sheep.count)\n"
      ],
      "metadata": {
        "id": "QcCZl8KNX1RX",
        "colab": {
          "base_uri": "https://localhost:8080/"
        },
        "outputId": "53413326-4139-493a-f8ba-b2f6e92cb4cf"
      },
      "execution_count": null,
      "outputs": [
        {
          "output_type": "stream",
          "name": "stdout",
          "text": [
            "Initial: 0\n",
            "After counting 3\n",
            "After reset: 0\n"
          ]
        }
      ]
    },
    {
      "cell_type": "markdown",
      "source": [
        "## Practice Exercise"
      ],
      "metadata": {
        "id": "IXoy07FtFjPP"
      }
    },
    {
      "cell_type": "code",
      "source": [
        "if True:\n",
        "    pass"
      ],
      "metadata": {
        "id": "1cPJX_QZRimp"
      },
      "execution_count": null,
      "outputs": []
    },
    {
      "cell_type": "code",
      "source": [
        "# Update Car to have an odometer that updates when we drive\n",
        "class Car:\n",
        "    def __init__(self, year, make):\n",
        "        self.year = year\n",
        "        self.make = make\n",
        "        self.odometer = 0\n",
        "\n",
        "    def __str__(self):\n",
        "        return str(self.year) + ' ' + str(self.make) + ' ' + str(self.odometer)\n",
        "\n",
        "    # update this method\n",
        "    def drive(self, distance):\n",
        "        self.odometer = distance\n",
        "\n",
        "\n",
        "\n",
        "mycar = Car(2023,'Ferrari')\n",
        "print(mycar)\n",
        "mycar.drive(1000)\n",
        "print(mycar)"
      ],
      "metadata": {
        "colab": {
          "base_uri": "https://localhost:8080/"
        },
        "id": "10uvDs3zFeoe",
        "outputId": "cf48fa2e-d755-4593-81e8-d92eb949e8b7"
      },
      "execution_count": null,
      "outputs": [
        {
          "output_type": "stream",
          "name": "stdout",
          "text": [
            "2023 Ferrari 0\n",
            "2023 Ferrari 1000\n"
          ]
        }
      ]
    },
    {
      "cell_type": "markdown",
      "source": [
        "# Encapsulation and TicTacToe Board\n",
        "A class can encapsulate, or hold internal to itself, parameters, and only let the user or other methods interact with it indirectly through methods."
      ],
      "metadata": {
        "id": "jiPfHHZCWtMZ"
      }
    },
    {
      "cell_type": "code",
      "source": [
        "class Board:\n",
        "  def __init__(self):\n",
        "    self._rows = [\n",
        "        [None, None, None],\n",
        "        [None, None, None],\n",
        "        [None, None, None],\n",
        "    ]\n",
        "\n",
        "  def __str__(self):\n",
        "    s = '-------\\n'\n",
        "    for row in self._rows:\n",
        "      for cell in row:\n",
        "        s = s + '|'\n",
        "        if cell == None:\n",
        "          s=s+' '\n",
        "        else:\n",
        "          s=s+cell\n",
        "      s = s + '|\\n-------\\n'\n",
        "    return s\n",
        "\n",
        "  def get(self, x, y):\n",
        "    return self._rows[y][x]\n",
        "\n",
        "  def set(self, x, y, value):\n",
        "    self._rows[y][x] = value"
      ],
      "metadata": {
        "id": "Efm2s_3YX12-"
      },
      "execution_count": null,
      "outputs": []
    },
    {
      "cell_type": "code",
      "source": [
        "b = Board()\n",
        "print(b)"
      ],
      "metadata": {
        "colab": {
          "base_uri": "https://localhost:8080/"
        },
        "id": "pcjDiXNzmO9X",
        "outputId": "beb95a28-8eec-4772-8e20-f0ca77db2ac6"
      },
      "execution_count": null,
      "outputs": [
        {
          "output_type": "stream",
          "name": "stdout",
          "text": [
            "-------\n",
            "| | | |\n",
            "-------\n",
            "| | | |\n",
            "-------\n",
            "| | | |\n",
            "-------\n",
            "\n"
          ]
        }
      ]
    },
    {
      "cell_type": "code",
      "source": [
        "# to modify the board, you must use the set method\n",
        "\n",
        "b.set(0,1,'X')\n",
        "b.set(2,1,'O')\n",
        "print(b)"
      ],
      "metadata": {
        "colab": {
          "base_uri": "https://localhost:8080/"
        },
        "id": "6RnskrK6m0Xv",
        "outputId": "40c7357f-22e0-4749-ebce-0f7d2af18f69"
      },
      "execution_count": null,
      "outputs": [
        {
          "output_type": "stream",
          "name": "stdout",
          "text": [
            "-------\n",
            "| | | |\n",
            "-------\n",
            "|X| |O|\n",
            "-------\n",
            "| | | |\n",
            "-------\n",
            "\n"
          ]
        }
      ]
    },
    {
      "cell_type": "markdown",
      "source": [
        "# Abstractions and Inversion of Control"
      ],
      "metadata": {
        "id": "BYU22cOaqmO4"
      }
    },
    {
      "cell_type": "markdown",
      "source": [
        "Abstractions and Inversion of Control\n",
        "\n",
        "**Abstractions**: We define an abstract base class NotificationMethod with an abstract method send. This abstraction defines a common interface that concrete notification methods must implement.\n",
        "\n",
        "Concrete Implementations: We create two concrete classes, EmailNotification and SMSNotification, that inherit from NotificationMethod. Each of these classes provides its implementation for the send method.\n",
        "\n",
        "**Inversion of Control**: The NotificationService class takes a method parameter in its constructor. It allows the main program to pass in different notification methods (email or SMS) without needing to know their specific implementations. This is the inversion of control, where the control over which notification method to use is inverted from the main program to the NotificationService.\n",
        "\n",
        "**Main Program**: In the main program, we create instances of the concrete notification methods (EmailNotification and SMSNotification) and pass them to NotificationService. The NotificationService can then send notifications using the chosen method without knowing the implementation details of that method.\n",
        "\n",
        "This example demonstrates the power of abstractions and inversion of control in creating flexible and maintainable code. It allows you to add new notification methods in the future without modifying the main program, promoting code reusability and extensibility."
      ],
      "metadata": {
        "id": "STl1kVsnSMl5"
      }
    },
    {
      "cell_type": "code",
      "source": [
        "# Abstractions (Abstract Base Class)\n",
        "from abc import ABC, abstractmethod\n",
        "\n",
        "class NotificationMethod(ABC):\n",
        "    @abstractmethod\n",
        "    def send(self, message):\n",
        "        pass\n",
        "\n",
        "# Concrete Implementations\n",
        "class EmailNotification(NotificationMethod):\n",
        "    def send(self, message):\n",
        "        print(f\"Sending email: {message}\")\n",
        "\n",
        "class SMSNotification(NotificationMethod):\n",
        "    def send(self, message):\n",
        "        print(f\"Sending SMS: {message}\")\n",
        "\n",
        "# Inversion of Control\n",
        "class NotificationService:\n",
        "    def __init__(self, method):\n",
        "        self.method = method\n",
        "\n",
        "    def send_notification(self, message):\n",
        "        self.method.send(message)\n",
        "\n",
        "# Main Program\n",
        "email_notifier = EmailNotification()\n",
        "sms_notifier = SMSNotification()\n",
        "\n",
        "email_service = NotificationService(email_notifier)\n",
        "sms_service = NotificationService(sms_notifier)\n",
        "\n",
        "email_service.send_notification(\"Hello, this is an email!\")\n",
        "sms_service.send_notification(\"Hello, this is an SMS!\")"
      ],
      "metadata": {
        "id": "Qbjn48tRSsEF",
        "colab": {
          "base_uri": "https://localhost:8080/"
        },
        "outputId": "efaf854c-6e48-492a-b08a-4322cbf70fa4"
      },
      "execution_count": null,
      "outputs": [
        {
          "output_type": "stream",
          "name": "stdout",
          "text": [
            "Sending email: Hello, this is an email!\n",
            "Sending SMS: Hello, this is an SMS!\n"
          ]
        }
      ]
    },
    {
      "cell_type": "markdown",
      "source": [
        "# Dependency Injection\n",
        "\n",
        "Dependencies between objects are 'injected', allowing for inversion of control to happen, where the control being inverted is instantiating a dependent class. In the below example, the function 'run' doesn't know which transformer method will be supplied. Each of the classes provides a 'trasnform' function, and when 'run' is called, it is sent the Echoer class (in the first example). Otherwise, 'run' would need to be told which class to use."
      ],
      "metadata": {
        "id": "2Bz709odWtPB"
      }
    },
    {
      "cell_type": "code",
      "source": [
        "class Echoer:\n",
        "  def transform(self, message):\n",
        "    return message\n",
        "\n",
        "class Reverser:\n",
        "  def transform(self, message):\n",
        "    return message[::-1]\n",
        "\n",
        "class Shouter:\n",
        "  def transform(self, message):\n",
        "    return message.upper()\n",
        "\n",
        "def run(transformer):\n",
        "  while True:\n",
        "    request = input('> ')\n",
        "    if request == '':\n",
        "      break\n",
        "    response = transformer.transform(request)\n",
        "    print('<', response)\n",
        "\n"
      ],
      "metadata": {
        "id": "adTKQxhkmONT"
      },
      "execution_count": null,
      "outputs": []
    },
    {
      "cell_type": "code",
      "source": [
        "print(\"Echoer\")\n",
        "run(Echoer())\n",
        "print(\"Reverse\")\n",
        "run(Reverser())\n",
        "print(\"Shouter\")\n",
        "run(Shouter())"
      ],
      "metadata": {
        "id": "memheKjwX2O4",
        "colab": {
          "base_uri": "https://localhost:8080/"
        },
        "outputId": "de5f3be2-a6dd-40a0-ab5d-5068b5cf0d40"
      },
      "execution_count": null,
      "outputs": [
        {
          "name": "stdout",
          "output_type": "stream",
          "text": [
            "Echoer\n",
            "> hi\n",
            "< hi\n",
            "> hello\n",
            "< hello\n",
            "> \n",
            "Reverse\n",
            "> Bleh\n",
            "< helB\n",
            "> Harsha\n",
            "< ahsraH\n",
            "> \n",
            "Shouter\n",
            "> yoo\n",
            "< YOO\n",
            "> hu\n",
            "< HU\n",
            "> \n"
          ]
        }
      ]
    },
    {
      "cell_type": "code",
      "source": [
        "run(Reverser())"
      ],
      "metadata": {
        "id": "lZXmJAX4AwtZ",
        "colab": {
          "base_uri": "https://localhost:8080/"
        },
        "outputId": "cc8e9501-0ccd-4869-b3c8-a9250f492505"
      },
      "execution_count": null,
      "outputs": [
        {
          "name": "stdout",
          "output_type": "stream",
          "text": [
            "> hello\n",
            "< olleh\n",
            "> \n"
          ]
        }
      ]
    },
    {
      "cell_type": "markdown",
      "source": [
        "# Polymorphic players in TicTacToe"
      ],
      "metadata": {
        "id": "3eJkqIT-XWbn"
      }
    },
    {
      "cell_type": "code",
      "source": [
        "# example, not working as not everything is implemented, of Human and bot\n",
        "\n",
        "class Game:\n",
        "  def __init__(self, playerX, playerO):\n",
        "    self._board = Board()\n",
        "    self._playerX = playerX\n",
        "    self._playerO = playerO\n",
        "\n",
        "  def run(self):\n",
        "    while game_not_over:\n",
        "      playerX.get_move()\n",
        "      make_move(self._board, current_player)\n",
        "\n",
        "class Human:\n",
        "  def get_move(self, board):\n",
        "    # input(\"please enter x,y for your move...\")\n",
        "\n",
        "    return parse_move(input())\n",
        "\n",
        "class Bot:\n",
        "  def get_move(self, board):\n",
        "    # x = random.get_random_number()\n",
        "    # y = random.get_random_number()\n",
        "    return some_available_square(board)\n",
        "\n",
        "game = Game(Human(), Bot())\n",
        "game.run()"
      ],
      "metadata": {
        "id": "Ob0fS125X2uN",
        "colab": {
          "base_uri": "https://localhost:8080/",
          "height": 297
        },
        "outputId": "d951ff79-290a-447b-e5e5-bf2dd170460e"
      },
      "execution_count": null,
      "outputs": [
        {
          "output_type": "error",
          "ename": "NameError",
          "evalue": "name 'game_not_over' is not defined",
          "traceback": [
            "\u001b[0;31m---------------------------------------------------------------------------\u001b[0m",
            "\u001b[0;31mNameError\u001b[0m                                 Traceback (most recent call last)",
            "\u001b[0;32m<ipython-input-72-272d430e165c>\u001b[0m in \u001b[0;36m<cell line: 26>\u001b[0;34m()\u001b[0m\n\u001b[1;32m     24\u001b[0m \u001b[0;34m\u001b[0m\u001b[0m\n\u001b[1;32m     25\u001b[0m \u001b[0mgame\u001b[0m \u001b[0;34m=\u001b[0m \u001b[0mGame\u001b[0m\u001b[0;34m(\u001b[0m\u001b[0mHuman\u001b[0m\u001b[0;34m(\u001b[0m\u001b[0;34m)\u001b[0m\u001b[0;34m,\u001b[0m \u001b[0mBot\u001b[0m\u001b[0;34m(\u001b[0m\u001b[0;34m)\u001b[0m\u001b[0;34m)\u001b[0m\u001b[0;34m\u001b[0m\u001b[0;34m\u001b[0m\u001b[0m\n\u001b[0;32m---> 26\u001b[0;31m \u001b[0mgame\u001b[0m\u001b[0;34m.\u001b[0m\u001b[0mrun\u001b[0m\u001b[0;34m(\u001b[0m\u001b[0;34m)\u001b[0m\u001b[0;34m\u001b[0m\u001b[0;34m\u001b[0m\u001b[0m\n\u001b[0m",
            "\u001b[0;32m<ipython-input-72-272d430e165c>\u001b[0m in \u001b[0;36mrun\u001b[0;34m(self)\u001b[0m\n\u001b[1;32m      8\u001b[0m \u001b[0;34m\u001b[0m\u001b[0m\n\u001b[1;32m      9\u001b[0m   \u001b[0;32mdef\u001b[0m \u001b[0mrun\u001b[0m\u001b[0;34m(\u001b[0m\u001b[0mself\u001b[0m\u001b[0;34m)\u001b[0m\u001b[0;34m:\u001b[0m\u001b[0;34m\u001b[0m\u001b[0;34m\u001b[0m\u001b[0m\n\u001b[0;32m---> 10\u001b[0;31m     \u001b[0;32mwhile\u001b[0m \u001b[0mgame_not_over\u001b[0m\u001b[0;34m:\u001b[0m\u001b[0;34m\u001b[0m\u001b[0;34m\u001b[0m\u001b[0m\n\u001b[0m\u001b[1;32m     11\u001b[0m       \u001b[0mplayerX\u001b[0m\u001b[0;34m.\u001b[0m\u001b[0mget_move\u001b[0m\u001b[0;34m(\u001b[0m\u001b[0;34m)\u001b[0m\u001b[0;34m\u001b[0m\u001b[0;34m\u001b[0m\u001b[0m\n\u001b[1;32m     12\u001b[0m       \u001b[0mmake_move\u001b[0m\u001b[0;34m(\u001b[0m\u001b[0mself\u001b[0m\u001b[0;34m.\u001b[0m\u001b[0m_board\u001b[0m\u001b[0;34m,\u001b[0m \u001b[0mcurrent_player\u001b[0m\u001b[0;34m)\u001b[0m\u001b[0;34m\u001b[0m\u001b[0;34m\u001b[0m\u001b[0m\n",
            "\u001b[0;31mNameError\u001b[0m: name 'game_not_over' is not defined"
          ]
        }
      ]
    },
    {
      "cell_type": "markdown",
      "source": [
        "# Practice Exercise: Random Move"
      ],
      "metadata": {
        "id": "prSrKsLDsQEu"
      }
    },
    {
      "cell_type": "code",
      "source": [
        "# Given a non-empty Tic Tac Toe board, write a function to pick a random,\n",
        "# legal move. Use the Board class from above\n",
        "import random\n",
        "\n",
        "board = [\n",
        "        [None, None, None],\n",
        "        [None, None, None],\n",
        "        [None, None, None],\n",
        "]\n",
        "\n",
        "def pick_random_move(board):\n",
        "\n",
        "    avaliable_positions = [\n",
        "        (x,y)\n",
        "        for x in range(3)\n",
        "        for y in range(3)\n",
        "        if board[x][y] == None\n",
        "    ]\n",
        "\n",
        "    return random.choice(avaliable_positions)\n",
        "\n",
        "move = pick_random_move(board)\n",
        "\n",
        "if move:\n",
        "    print(f\"Random Legal move: {move}\")\n",
        "else:\n",
        "    print(\"No legal moves available\")\n",
        "\n",
        "# hint: create a list of available positions\n",
        "\n",
        "# hint: use the choice function from random module\n"
      ],
      "metadata": {
        "id": "920eZLxbsUUC",
        "colab": {
          "base_uri": "https://localhost:8080/"
        },
        "outputId": "71a143c4-e89f-420f-e1bc-3f3f5e646936"
      },
      "execution_count": null,
      "outputs": [
        {
          "output_type": "stream",
          "name": "stdout",
          "text": [
            "Random Legal move: (2, 1)\n"
          ]
        }
      ]
    },
    {
      "cell_type": "markdown",
      "source": [
        "# Mutable and immutable type IDs\n"
      ],
      "metadata": {
        "id": "3QWzW_qLBQ1I"
      }
    },
    {
      "cell_type": "code",
      "source": [
        "num = 4\n",
        "num4 = id(num)\n",
        "num4"
      ],
      "metadata": {
        "colab": {
          "base_uri": "https://localhost:8080/"
        },
        "id": "quZutOqlBGb0",
        "outputId": "5a02aee5-6a76-43cf-d908-264e33d18e25"
      },
      "execution_count": null,
      "outputs": [
        {
          "output_type": "execute_result",
          "data": {
            "text/plain": [
              "136767341101392"
            ]
          },
          "metadata": {},
          "execution_count": 81
        }
      ]
    },
    {
      "cell_type": "code",
      "source": [
        "num = num + 2\n",
        "print(num)"
      ],
      "metadata": {
        "colab": {
          "base_uri": "https://localhost:8080/"
        },
        "id": "gwbs5L_ICOr6",
        "outputId": "cf4509a9-31cf-4e93-f232-a00bea4e8b9c"
      },
      "execution_count": null,
      "outputs": [
        {
          "output_type": "stream",
          "name": "stdout",
          "text": [
            "6\n"
          ]
        }
      ]
    },
    {
      "cell_type": "code",
      "source": [
        "id(num) == num4"
      ],
      "metadata": {
        "colab": {
          "base_uri": "https://localhost:8080/"
        },
        "id": "oKLmskZ2CRwh",
        "outputId": "b574d64f-d94d-47c0-bc6f-e650488d5c56"
      },
      "execution_count": null,
      "outputs": [
        {
          "output_type": "execute_result",
          "data": {
            "text/plain": [
              "False"
            ]
          },
          "metadata": {},
          "execution_count": 83
        }
      ]
    },
    {
      "cell_type": "code",
      "source": [
        "tup = (2,3)\n",
        "tup[0]"
      ],
      "metadata": {
        "colab": {
          "base_uri": "https://localhost:8080/"
        },
        "id": "-FkG4oYICSsB",
        "outputId": "5a5e4152-8fb2-44a3-ee31-b2226c9b09b9"
      },
      "execution_count": null,
      "outputs": [
        {
          "output_type": "execute_result",
          "data": {
            "text/plain": [
              "2"
            ]
          },
          "metadata": {},
          "execution_count": 84
        }
      ]
    },
    {
      "cell_type": "code",
      "source": [
        "id(tup)"
      ],
      "metadata": {
        "colab": {
          "base_uri": "https://localhost:8080/"
        },
        "id": "_G7KOFG8Chhf",
        "outputId": "09a7d1d7-c88d-44d4-c75a-7235e55ad3e4"
      },
      "execution_count": null,
      "outputs": [
        {
          "output_type": "execute_result",
          "data": {
            "text/plain": [
              "136766015764480"
            ]
          },
          "metadata": {},
          "execution_count": 85
        }
      ]
    },
    {
      "cell_type": "code",
      "source": [
        "tup = (3,3)"
      ],
      "metadata": {
        "id": "x97Z4JRsCiQ3"
      },
      "execution_count": null,
      "outputs": []
    },
    {
      "cell_type": "code",
      "source": [
        "id(tup)"
      ],
      "metadata": {
        "colab": {
          "base_uri": "https://localhost:8080/"
        },
        "id": "6xcQ2cmPClrP",
        "outputId": "1d370f4f-7cfe-43c7-edea-3d733ddc63f0"
      },
      "execution_count": null,
      "outputs": [
        {
          "output_type": "execute_result",
          "data": {
            "text/plain": [
              "136766016060864"
            ]
          },
          "metadata": {},
          "execution_count": 87
        }
      ]
    },
    {
      "cell_type": "code",
      "source": [
        "my_dict = {'name':'steve', 'hobby':'reading'}"
      ],
      "metadata": {
        "id": "a88qRZzzCtfN"
      },
      "execution_count": null,
      "outputs": []
    },
    {
      "cell_type": "code",
      "source": [
        "orig = id(my_dict)\n",
        "id(my_dict)"
      ],
      "metadata": {
        "colab": {
          "base_uri": "https://localhost:8080/"
        },
        "id": "vIOP-wvEC6PU",
        "outputId": "4fdb68b8-9810-480d-886d-483b7972e0c9"
      },
      "execution_count": null,
      "outputs": [
        {
          "output_type": "execute_result",
          "data": {
            "text/plain": [
              "136766013860032"
            ]
          },
          "metadata": {},
          "execution_count": 89
        }
      ]
    },
    {
      "cell_type": "code",
      "source": [
        "my_dict['name']='jon'"
      ],
      "metadata": {
        "id": "T4AVjvZtC_1L"
      },
      "execution_count": null,
      "outputs": []
    },
    {
      "cell_type": "code",
      "source": [
        "my_dict"
      ],
      "metadata": {
        "colab": {
          "base_uri": "https://localhost:8080/"
        },
        "id": "NH8oAaU-DH7L",
        "outputId": "f993edb6-9bd8-4cec-c109-48484a50aac5"
      },
      "execution_count": null,
      "outputs": [
        {
          "output_type": "execute_result",
          "data": {
            "text/plain": [
              "{'name': 'jon', 'hobby': 'reading'}"
            ]
          },
          "metadata": {},
          "execution_count": 91
        }
      ]
    },
    {
      "cell_type": "code",
      "source": [
        "id(my_dict) == orig"
      ],
      "metadata": {
        "colab": {
          "base_uri": "https://localhost:8080/"
        },
        "id": "jkKFvxBjDI3Q",
        "outputId": "52ccc7b6-22e9-40d3-c3eb-6f2933f5220a"
      },
      "execution_count": null,
      "outputs": [
        {
          "output_type": "execute_result",
          "data": {
            "text/plain": [
              "True"
            ]
          },
          "metadata": {},
          "execution_count": 92
        }
      ]
    },
    {
      "cell_type": "code",
      "source": [],
      "metadata": {
        "id": "GDqb33oufV-b"
      },
      "execution_count": null,
      "outputs": []
    }
  ]
}