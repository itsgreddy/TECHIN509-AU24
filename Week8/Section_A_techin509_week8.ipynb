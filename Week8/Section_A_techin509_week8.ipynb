{
 "cells": [
  {
   "cell_type": "markdown",
   "metadata": {
    "id": "2ykAsavrWsVF"
   },
   "source": [
    "# Object Oriented Programming\n",
    "- Without OOP: Dictionaries and Named tuples ( min)\n",
    "- With OOP: Classes ( min)\n",
    "- Encapsulation ( min)\n",
    "- Abstractions and Inversion of Control ( min)\n",
    "- Dependency Injection ( min)\n",
    "- Polymorphic Players ( min)\n",
    "\n",
    "\n",
    "\n",
    "\n"
   ]
  },
  {
   "cell_type": "markdown",
   "metadata": {
    "id": "Izs2yIHaoNDc"
   },
   "source": [
    "# Programming Paradigms\n",
    "\n",
    "## Procedural Programming\n",
    "\n",
    "- So far we focused on writing instructions for the computer to execute.\n",
    "- It follows a top down approach (think of the overall flow first, then write the instructions)\n",
    "- The program is built with **functions** and **variables**\n",
    "- It's difficult to build complex and modular software\n",
    "\n",
    "**Software is not just about instructions, it's about data.**\n",
    "\n",
    "## Object Oriented Programming\n",
    "\n",
    "- Our world is composed of a vast array of objects\n",
    "- It's the unit that makes the most sense to organize data\n",
    "- Objects have **attributes** and some logic that can manipulate the data (**methods**)\n",
    "- The program is model around how differnt objects interact with each other through calling the objects' methods (**message passing**)\n",
    "\n",
    "## Examples\n",
    "\n",
    "1. Simple Program\n",
    "\n",
    "    Write a program that asks for a number and then prints its square root.\n",
    "\n",
    "2. Real world program\n",
    "\n",
    "    A video streaming platform allows users to upload and watch videos. The platform records each video, the uploader's username, and the upload timestamp. Users can then browse and watch videos that have been uploaded by others and even leave comments on them."
   ]
  },
  {
   "cell_type": "markdown",
   "metadata": {
    "id": "hgDJkGuk0cpr"
   },
   "source": [
    "# Organizing data without OOP"
   ]
  },
  {
   "cell_type": "markdown",
   "metadata": {
    "id": "EiKnx3qT-JdE"
   },
   "source": [
    "## Dictionaries"
   ]
  },
  {
   "cell_type": "code",
   "execution_count": null,
   "metadata": {
    "colab": {
     "base_uri": "https://localhost:8080/"
    },
    "id": "i1m2kCvOXwtg",
    "outputId": "bd39c2ff-af88-417c-91d2-190bda67320d"
   },
   "outputs": [
    {
     "name": "stdout",
     "output_type": "stream",
     "text": [
      "{'Steve': '432-345-2433'}\n",
      "432-345-2433\n",
      "432-345-2433\n",
      "None\n",
      "unknown\n",
      "{'Steve': '000-000-0000'}\n",
      "0\n"
     ]
    }
   ],
   "source": [
    "# dictionaries\n",
    "\n",
    "phone_numbers = {\n",
    "    'Steve': '432-345-2433'\n",
    "}\n",
    "print(phone_numbers)\n",
    "\n",
    "# Key : Steve\n",
    "# Value : 432-345-2433\n",
    "# Entry : 'Steve' -> '432-345-2433'\n",
    "\n",
    "print(phone_numbers['Steve'])\n",
    "print(phone_numbers.get('Steve'))\n",
    "print(phone_numbers.get('Joe'))\n",
    "print(phone_numbers.get('Joe','unknown'))\n",
    "\n",
    "phone_numbers['Steve']='000-000-0000'\n",
    "print(phone_numbers)\n",
    "del phone_numbers['Steve']\n",
    "print(len(phone_numbers))"
   ]
  },
  {
   "cell_type": "markdown",
   "metadata": {
    "id": "xy6wMfHw-MnM"
   },
   "source": [
    "## Named tuples"
   ]
  },
  {
   "cell_type": "code",
   "execution_count": null,
   "metadata": {
    "colab": {
     "base_uri": "https://localhost:8080/"
    },
    "id": "Qoo-IEEYHsJ4",
    "outputId": "4f31dce4-3df8-4c5b-ec25-2a1d4dff8acc"
   },
   "outputs": [
    {
     "name": "stdout",
     "output_type": "stream",
     "text": [
      "Steve 123\n"
     ]
    }
   ],
   "source": [
    "# Named Tuples\n",
    "from collections import namedtuple\n",
    "\n",
    "Person = namedtuple('Person',['name','phone'])\n",
    "steve = Person('Steve','123')\n",
    "print(steve.name,steve.phone)"
   ]
  },
  {
   "cell_type": "markdown",
   "metadata": {
    "id": "NJXt4EvB0jyr"
   },
   "source": [
    "# Organizing data with OOP"
   ]
  },
  {
   "cell_type": "markdown",
   "metadata": {
    "id": "P0N8PKG3-Pyk"
   },
   "source": [
    "## Classes\n",
    "\n",
    "A class is a blueprint for creating objects"
   ]
  },
  {
   "cell_type": "code",
   "execution_count": null,
   "metadata": {
    "colab": {
     "base_uri": "https://localhost:8080/"
    },
    "id": "m0UlModIXxI7",
    "outputId": "7be48cea-262d-4d3f-8220-834e95c924fb"
   },
   "outputs": [
    {
     "name": "stdout",
     "output_type": "stream",
     "text": [
      "Fido\n",
      "Fluffy\n",
      "True\n"
     ]
    }
   ],
   "source": [
    "class Dog:\n",
    "  name = None\n",
    "\n",
    "class Cat:\n",
    "  name = None\n",
    "\n",
    "dog = Dog()\n",
    "dog.name = 'Fido'\n",
    "\n",
    "cat = Cat()\n",
    "cat.name = 'Fluffy'\n",
    "\n",
    "print(dog.name)\n",
    "print(cat.name)\n",
    "\n",
    "print(isinstance(dog,Dog))"
   ]
  },
  {
   "cell_type": "markdown",
   "metadata": {
    "id": "ih1QJoyGEI05"
   },
   "source": [
    "## Practice Exercise"
   ]
  },
  {
   "cell_type": "code",
   "execution_count": null,
   "metadata": {
    "colab": {
     "base_uri": "https://localhost:8080/"
    },
    "id": "nA1SOP05Di7K",
    "outputId": "e16eaf7e-d0d7-4270-c5d0-adf332236ace"
   },
   "outputs": [
    {
     "name": "stdout",
     "output_type": "stream",
     "text": [
      "This table is brown and square.\n"
     ]
    }
   ],
   "source": [
    "# define a class to represent a table with properties color and shape\n",
    "# assign strings to color and shape\n",
    "class Table:\n",
    "    def __init__(self,color,shape):\n",
    "        self.color = color\n",
    "        self.shape = shape\n",
    "\n",
    "    def __str__(self):\n",
    "        return f\"This table is {self.color} and {self.shape}.\"\n",
    "\n",
    "table = Table(color=\"brown\", shape=\"square\")\n",
    "print(table)"
   ]
  },
  {
   "cell_type": "markdown",
   "metadata": {
    "id": "BCltHQBuWswK"
   },
   "source": [
    "## Initializers\n",
    "\n",
    "Initializers are called when creating a new instance of a Class."
   ]
  },
  {
   "cell_type": "code",
   "execution_count": null,
   "metadata": {
    "colab": {
     "base_uri": "https://localhost:8080/"
    },
    "id": "oU-T5gg1XxoI",
    "outputId": "92221075-1bb7-4e4b-d429-1957c9c19d12"
   },
   "outputs": [
    {
     "name": "stdout",
     "output_type": "stream",
     "text": [
      "Fido and Fluffy\n",
      "True\n"
     ]
    }
   ],
   "source": [
    "class Dog:\n",
    "  def __init__(self,name):\n",
    "    self.name = name\n",
    "\n",
    "class Cat:\n",
    "  def __init__(self,name):\n",
    "    self.name = name\n",
    "\n",
    "dog = Dog('Fido')\n",
    "cat = Cat('Fluffy')\n",
    "\n",
    "print(dog.name,'and',cat.name)\n",
    "\n",
    "print(isinstance(dog,Dog))"
   ]
  },
  {
   "cell_type": "markdown",
   "metadata": {
    "id": "mGy4SHR4Ws3D"
   },
   "source": [
    "## Polymorphism\n",
    "\n",
    "Polymorphism allows different types of objects to pass through the same interface."
   ]
  },
  {
   "cell_type": "code",
   "execution_count": null,
   "metadata": {
    "colab": {
     "base_uri": "https://localhost:8080/"
    },
    "id": "f4oCynuXXycj",
    "outputId": "1df8b7e9-5c05-4ef1-e3b6-bd7fb2d61e91"
   },
   "outputs": [
    {
     "name": "stdout",
     "output_type": "stream",
     "text": [
      "Woof!\n",
      "meow\n"
     ]
    }
   ],
   "source": [
    "# the function speak checks what kind of animal it is\n",
    "\n",
    "def speak(animal):\n",
    "  if isinstance(animal, Dog):\n",
    "    print('Woof!')\n",
    "  elif isinstance(animal,Cat):\n",
    "    print('meow')\n",
    "  else:\n",
    "    assert False, 'Unexpected type of animal'\n",
    "\n",
    "speak(dog)\n",
    "speak(cat)"
   ]
  },
  {
   "cell_type": "code",
   "execution_count": null,
   "metadata": {
    "colab": {
     "base_uri": "https://localhost:8080/"
    },
    "id": "F_ffF_ORf-LK",
    "outputId": "2bd86ff4-e4aa-4a56-b4fc-674ad5e366c9"
   },
   "outputs": [
    {
     "name": "stdout",
     "output_type": "stream",
     "text": [
      "Woof!\n",
      "meow\n"
     ]
    }
   ],
   "source": [
    "# the classes each implement the speak function\n",
    "\n",
    "# abc (abstract base class)\n",
    "class Animal:\n",
    "    def speak(self):\n",
    "        pass\n",
    "\n",
    "class Dog:\n",
    "  def __init__(self,name):\n",
    "    self.name = name\n",
    "  def speak(self):\n",
    "    print('Woof!')\n",
    "\n",
    "class Cat:\n",
    "  def __init__(self,name):\n",
    "    self.name = name\n",
    "  def speak(self):\n",
    "    print('meow')\n",
    "\n",
    "# animal = get_animal()\n",
    "# animal.speak()\n",
    "\n",
    "dog = Dog('Fido')\n",
    "cat = Cat('Fluffy')\n",
    "\n",
    "dog.speak()\n",
    "cat.speak()"
   ]
  },
  {
   "cell_type": "markdown",
   "metadata": {
    "id": "6R2FeVOkWs_4"
   },
   "source": [
    "## Builtin method polymorphism using __str__ for print()"
   ]
  },
  {
   "cell_type": "code",
   "execution_count": null,
   "metadata": {
    "colab": {
     "base_uri": "https://localhost:8080/"
    },
    "id": "k1JtomBvXz7T",
    "outputId": "69526bfc-70e5-4f54-ab4b-7db76682f3e8"
   },
   "outputs": [
    {
     "name": "stdout",
     "output_type": "stream",
     "text": [
      "2016 Mazda\n",
      "2021 Honda 123 x\n"
     ]
    }
   ],
   "source": [
    "class Car:\n",
    "  def __init__(self, year, make):\n",
    "    self.year = year\n",
    "    self.make = make\n",
    "\n",
    "  def __str__(self):\n",
    "    return str(self.year) + ' ' + str(self.make)\n",
    "\n",
    "print(str(Car(2016, 'Mazda')))\n",
    "\n",
    "print(Car(2021, 'Honda'), 123, 'x')\n"
   ]
  },
  {
   "cell_type": "markdown",
   "metadata": {
    "id": "Kz_oj6o7Ws6G"
   },
   "source": [
    "## Subclasses and Inheritance\n",
    "Creating a class with another class as a parameter allow the subclass to inherit the methods and properties of the parent class."
   ]
  },
  {
   "cell_type": "code",
   "execution_count": null,
   "metadata": {
    "colab": {
     "base_uri": "https://localhost:8080/"
    },
    "id": "zsvQF1UAXy3i",
    "outputId": "d3238d83-7f98-4f24-92b5-9d5e65a00a26"
   },
   "outputs": [
    {
     "name": "stdout",
     "output_type": "stream",
     "text": [
      "Fido says Woof!\n",
      "Fluffy says meow\n"
     ]
    }
   ],
   "source": [
    "class Animal:\n",
    "  def __init__(self,name):\n",
    "    self.name = name\n",
    "  def speak(self):\n",
    "    print(self.name,'says',self.sound)\n",
    "\n",
    "class Dog(Animal):\n",
    "  sound = 'Woof!'\n",
    "\n",
    "class Cat(Animal):\n",
    "  sound = 'meow'\n",
    "\n",
    "dog = Dog('Fido')\n",
    "cat = Cat('Fluffy')\n",
    "\n",
    "dog.speak()\n",
    "cat.speak()"
   ]
  },
  {
   "cell_type": "markdown",
   "metadata": {
    "id": "B3ZBrB00WtCt"
   },
   "source": [
    "## Methods as sending messages, Objects as machines\n",
    "Methods can be used to instantiate actions, similar to sending a message to do smoething. Because objects like classes can maintain their own internal values, they have 'state'. In the Counter object example, a method is used to update the state of the Counter 'machine'."
   ]
  },
  {
   "cell_type": "code",
   "execution_count": null,
   "metadata": {
    "colab": {
     "base_uri": "https://localhost:8080/"
    },
    "id": "De9Or89FX0aO",
    "outputId": "78c4233b-1bb3-4fa0-9514-e10e604373e0"
   },
   "outputs": [
    {
     "name": "stdout",
     "output_type": "stream",
     "text": [
      "Fido says Woof!\n"
     ]
    }
   ],
   "source": [
    "dog.speak()"
   ]
  },
  {
   "cell_type": "code",
   "execution_count": null,
   "metadata": {
    "colab": {
     "base_uri": "https://localhost:8080/"
    },
    "id": "RdXFBvkaX03j",
    "outputId": "86b165da-93f3-4807-c088-b601e5fe406e"
   },
   "outputs": [
    {
     "name": "stdout",
     "output_type": "stream",
     "text": [
      "2014 Honda\n",
      "2023 Ferrari\n"
     ]
    }
   ],
   "source": [
    "# mycar is an instance of Car, and we can give it 'state'\n",
    "mycar = Car(2014,'Honda')\n",
    "print(mycar)\n",
    "# I can sell my car, thankfully, and change the 'state'\n",
    "mycar = Car(2023,'Ferrari')\n",
    "print(mycar)"
   ]
  },
  {
   "cell_type": "markdown",
   "metadata": {
    "id": "kJqNwlvbWtJo"
   },
   "source": [
    "## Counter object example"
   ]
  },
  {
   "cell_type": "code",
   "execution_count": null,
   "metadata": {
    "colab": {
     "base_uri": "https://localhost:8080/"
    },
    "id": "QcCZl8KNX1RX",
    "outputId": "53413326-4139-493a-f8ba-b2f6e92cb4cf"
   },
   "outputs": [
    {
     "name": "stdout",
     "output_type": "stream",
     "text": [
      "Initial: 0\n",
      "After counting 3\n",
      "After reset: 0\n"
     ]
    }
   ],
   "source": [
    "class Counter:\n",
    "  def __init__(self, name):\n",
    "    self.name = name\n",
    "    self.count = 0\n",
    "\n",
    "  def reset(self):\n",
    "    self.count = 0\n",
    "\n",
    "  def click(self):\n",
    "    self.count = self.count + 1\n",
    "\n",
    "sheep = Counter(name = \"Sheep\")\n",
    "wolf = Counter(name = \"WOlf\")\n",
    "print('Initial:',sheep.count)\n",
    "\n",
    "sheep.click()\n",
    "sheep.click()\n",
    "sheep.click()\n",
    "print('After counting',sheep.count)\n",
    "\n",
    "sheep.reset()\n",
    "print('After reset:',sheep.count)\n"
   ]
  },
  {
   "cell_type": "markdown",
   "metadata": {
    "id": "IXoy07FtFjPP"
   },
   "source": [
    "## Practice Exercise"
   ]
  },
  {
   "cell_type": "code",
   "execution_count": null,
   "metadata": {
    "id": "1cPJX_QZRimp"
   },
   "outputs": [],
   "source": [
    "if True:\n",
    "    pass"
   ]
  },
  {
   "cell_type": "code",
   "execution_count": null,
   "metadata": {
    "colab": {
     "base_uri": "https://localhost:8080/"
    },
    "id": "10uvDs3zFeoe",
    "outputId": "cf48fa2e-d755-4593-81e8-d92eb949e8b7"
   },
   "outputs": [
    {
     "name": "stdout",
     "output_type": "stream",
     "text": [
      "2023 Ferrari 0\n",
      "2023 Ferrari 1000\n"
     ]
    }
   ],
   "source": [
    "# Update Car to have an odometer that updates when we drive\n",
    "class Car:\n",
    "    def __init__(self, year, make):\n",
    "        self.year = year\n",
    "        self.make = make\n",
    "        self.odometer = 0\n",
    "\n",
    "    def __str__(self):\n",
    "        return str(self.year) + ' ' + str(self.make) + ' ' + str(self.odometer)\n",
    "\n",
    "    # update this method\n",
    "    def drive(self, distance):\n",
    "        self.odometer = self.odometer + distance\n",
    "\n",
    "mycar = Car(2023,'Ferrari')\n",
    "print(mycar)\n",
    "mycar.drive(1000)\n",
    "print(mycar)"
   ]
  },
  {
   "cell_type": "markdown",
   "metadata": {
    "id": "jiPfHHZCWtMZ"
   },
   "source": [
    "# Encapsulation and TicTacToe Board\n",
    "A class can encapsulate, or hold internal to itself, parameters, and only let the user or other methods interact with it indirectly through methods."
   ]
  },
  {
   "cell_type": "code",
   "execution_count": 2,
   "metadata": {
    "id": "Efm2s_3YX12-"
   },
   "outputs": [],
   "source": [
    "class Board:\n",
    "  def __init__(self):\n",
    "    self._rows = [\n",
    "        [None, None, None],\n",
    "        [None, None, None],\n",
    "        [None, None, None],\n",
    "    ]\n",
    "\n",
    "  def __str__(self):\n",
    "    s = '-------\\n'\n",
    "    for row in self._rows:\n",
    "      for cell in row:\n",
    "        s = s + '|'\n",
    "        if cell == None:\n",
    "          s=s+' '\n",
    "        else:\n",
    "          s=s+cell\n",
    "      s = s + '|\\n-------\\n'\n",
    "    return s\n",
    "\n",
    "  def get(self, x, y):\n",
    "    return self._rows[y][x]\n",
    "\n",
    "  def set(self, x, y, value):\n",
    "    self._rows[y][x] = value"
   ]
  },
  {
   "cell_type": "code",
   "execution_count": 3,
   "metadata": {
    "colab": {
     "base_uri": "https://localhost:8080/"
    },
    "id": "pcjDiXNzmO9X",
    "outputId": "beb95a28-8eec-4772-8e20-f0ca77db2ac6"
   },
   "outputs": [
    {
     "name": "stdout",
     "output_type": "stream",
     "text": [
      "-------\n",
      "| | | |\n",
      "-------\n",
      "| | | |\n",
      "-------\n",
      "| | | |\n",
      "-------\n",
      "\n"
     ]
    }
   ],
   "source": [
    "b = Board()\n",
    "print(b)"
   ]
  },
  {
   "cell_type": "code",
   "execution_count": 4,
   "metadata": {
    "colab": {
     "base_uri": "https://localhost:8080/"
    },
    "id": "6RnskrK6m0Xv",
    "outputId": "40c7357f-22e0-4749-ebce-0f7d2af18f69"
   },
   "outputs": [
    {
     "name": "stdout",
     "output_type": "stream",
     "text": [
      "-------\n",
      "| | | |\n",
      "-------\n",
      "|X| |O|\n",
      "-------\n",
      "| | | |\n",
      "-------\n",
      "\n"
     ]
    }
   ],
   "source": [
    "# to modify the board, you must use the set method\n",
    "\n",
    "b.set(0,1,'X')\n",
    "b.set(2,1,'O')\n",
    "print(b)"
   ]
  },
  {
   "cell_type": "code",
   "execution_count": 8,
   "metadata": {},
   "outputs": [
    {
     "data": {
      "text/plain": [
       "'X'"
      ]
     },
     "execution_count": 8,
     "metadata": {},
     "output_type": "execute_result"
    }
   ],
   "source": [
    "b.get(0,0)\n",
    "b.get(0,1)"
   ]
  },
  {
   "cell_type": "markdown",
   "metadata": {
    "id": "BYU22cOaqmO4"
   },
   "source": [
    "# Abstractions and Inversion of Control"
   ]
  },
  {
   "cell_type": "markdown",
   "metadata": {
    "id": "STl1kVsnSMl5"
   },
   "source": [
    "Abstractions and Inversion of Control\n",
    "\n",
    "**Abstractions**: We define an abstract base class NotificationMethod with an abstract method send. This abstraction defines a common interface that concrete notification methods must implement.\n",
    "\n",
    "Concrete Implementations: We create two concrete classes, EmailNotification and SMSNotification, that inherit from NotificationMethod. Each of these classes provides its implementation for the send method.\n",
    "\n",
    "**Inversion of Control**: The NotificationService class takes a method parameter in its constructor. It allows the main program to pass in different notification methods (email or SMS) without needing to know their specific implementations. This is the inversion of control, where the control over which notification method to use is inverted from the main program to the NotificationService.\n",
    "\n",
    "**Main Program**: In the main program, we create instances of the concrete notification methods (EmailNotification and SMSNotification) and pass them to NotificationService. The NotificationService can then send notifications using the chosen method without knowing the implementation details of that method.\n",
    "\n",
    "This example demonstrates the power of abstractions and inversion of control in creating flexible and maintainable code. It allows you to add new notification methods in the future without modifying the main program, promoting code reusability and extensibility."
   ]
  },
  {
   "cell_type": "code",
   "execution_count": 12,
   "metadata": {
    "colab": {
     "base_uri": "https://localhost:8080/"
    },
    "id": "Qbjn48tRSsEF",
    "outputId": "efaf854c-6e48-492a-b08a-4322cbf70fa4"
   },
   "outputs": [
    {
     "ename": "TypeError",
     "evalue": "Can't instantiate abstract class AppPushNotification with abstract method send",
     "output_type": "error",
     "traceback": [
      "\u001b[1;31m---------------------------------------------------------------------------\u001b[0m",
      "\u001b[1;31mTypeError\u001b[0m                                 Traceback (most recent call last)",
      "Cell \u001b[1;32mIn[12], line 36\u001b[0m\n\u001b[0;32m     34\u001b[0m email_notifier \u001b[38;5;241m=\u001b[39m EmailNotification()\n\u001b[0;32m     35\u001b[0m sms_notifier \u001b[38;5;241m=\u001b[39m SMSNotification()\n\u001b[1;32m---> 36\u001b[0m app_push_notifier \u001b[38;5;241m=\u001b[39m \u001b[43mAppPushNotification\u001b[49m\u001b[43m(\u001b[49m\u001b[43m)\u001b[49m\n\u001b[0;32m     38\u001b[0m email_service \u001b[38;5;241m=\u001b[39m NotificationService(email_notifier)\n\u001b[0;32m     39\u001b[0m sms_service \u001b[38;5;241m=\u001b[39m NotificationService(sms_notifier)\n",
      "\u001b[1;31mTypeError\u001b[0m: Can't instantiate abstract class AppPushNotification with abstract method send"
     ]
    }
   ],
   "source": [
    "# Abstractions (Abstract Base Class)\n",
    "from abc import ABC, abstractmethod\n",
    "\n",
    "class NotificationMethod(ABC):\n",
    "    @abstractmethod\n",
    "    def send(self, message):\n",
    "        pass\n",
    "\n",
    "# Concrete Implementations\n",
    "class EmailNotification(NotificationMethod):\n",
    "    def send(self, message):\n",
    "        print(f\"Sending email: {message}\")\n",
    "\n",
    "class SMSNotification(NotificationMethod):\n",
    "    def send(self, message):\n",
    "        print(f\"Sending SMS: {message}\")\n",
    "\n",
    "# Add AppPushNotification\n",
    "class AppPushNotification(NotificationMethod):\n",
    "    def receive(self):\n",
    "        pass\n",
    "    # def send(self, message):\n",
    "    #     print(f\"Sending app push notification: {message}\")\n",
    "\n",
    "# Inversion of Control\n",
    "class NotificationService:\n",
    "    def __init__(self, method):\n",
    "        self.method = method\n",
    "\n",
    "    def send_notification(self, message):\n",
    "        self.method.send(message)\n",
    "\n",
    "# Main Program\n",
    "email_notifier = EmailNotification()\n",
    "sms_notifier = SMSNotification()\n",
    "app_push_notifier = AppPushNotification()\n",
    "\n",
    "email_service = NotificationService(email_notifier)\n",
    "sms_service = NotificationService(sms_notifier)\n",
    "\n",
    "email_service.send_notification(\"Hello, this is an email!\")\n",
    "sms_service.send_notification(\"Hello, this is an SMS!\")"
   ]
  },
  {
   "cell_type": "markdown",
   "metadata": {
    "id": "2Bz709odWtPB"
   },
   "source": [
    "# Dependency Injection\n",
    "\n",
    "Dependencies between objects are 'injected', allowing for inversion of control to happen, where the control being inverted is instantiating a dependent class. In the below example, the function 'run' doesn't know which transformer method will be supplied. Each of the classes provides a 'trasnform' function, and when 'run' is called, it is sent the Echoer class (in the first example). Otherwise, 'run' would need to be told which class to use."
   ]
  },
  {
   "cell_type": "code",
   "execution_count": null,
   "metadata": {
    "id": "adTKQxhkmONT"
   },
   "outputs": [],
   "source": [
    "class Echoer:\n",
    "  def transform(self, message):\n",
    "    return message\n",
    "\n",
    "class Reverser:\n",
    "  def transform(self, message):\n",
    "    return message[::-1]\n",
    "\n",
    "class Shouter:\n",
    "  def transform(self, message):\n",
    "    return message.upper()\n",
    "\n",
    "def run(transformer):\n",
    "  while True:\n",
    "    request = input('> ')\n",
    "    if request == '':\n",
    "      break\n",
    "    response = transformer.transform(request)\n",
    "    print('<', response)\n",
    "\n"
   ]
  },
  {
   "cell_type": "code",
   "execution_count": null,
   "metadata": {
    "colab": {
     "base_uri": "https://localhost:8080/"
    },
    "id": "memheKjwX2O4",
    "outputId": "de5f3be2-a6dd-40a0-ab5d-5068b5cf0d40"
   },
   "outputs": [
    {
     "name": "stdout",
     "output_type": "stream",
     "text": [
      "Echoer\n",
      "> hi\n",
      "< hi\n",
      "> hello\n",
      "< hello\n",
      "> \n",
      "Reverse\n",
      "> Bleh\n",
      "< helB\n",
      "> Harsha\n",
      "< ahsraH\n",
      "> \n",
      "Shouter\n",
      "> yoo\n",
      "< YOO\n",
      "> hu\n",
      "< HU\n",
      "> \n"
     ]
    }
   ],
   "source": [
    "print(\"Echoer\")\n",
    "run(Echoer())\n",
    "print(\"Reverse\")\n",
    "run(Reverser())\n",
    "print(\"Shouter\")\n",
    "run(Shouter())"
   ]
  },
  {
   "cell_type": "code",
   "execution_count": null,
   "metadata": {
    "colab": {
     "base_uri": "https://localhost:8080/"
    },
    "id": "lZXmJAX4AwtZ",
    "outputId": "cc8e9501-0ccd-4869-b3c8-a9250f492505"
   },
   "outputs": [
    {
     "name": "stdout",
     "output_type": "stream",
     "text": [
      "> hello\n",
      "< olleh\n",
      "> \n"
     ]
    }
   ],
   "source": [
    "run(Reverser())"
   ]
  },
  {
   "cell_type": "markdown",
   "metadata": {
    "id": "3eJkqIT-XWbn"
   },
   "source": [
    "# Polymorphic players in TicTacToe"
   ]
  },
  {
   "cell_type": "code",
   "execution_count": null,
   "metadata": {
    "colab": {
     "base_uri": "https://localhost:8080/",
     "height": 297
    },
    "id": "Ob0fS125X2uN",
    "outputId": "d951ff79-290a-447b-e5e5-bf2dd170460e"
   },
   "outputs": [
    {
     "ename": "NameError",
     "evalue": "name 'game_not_over' is not defined",
     "output_type": "error",
     "traceback": [
      "\u001b[0;31m---------------------------------------------------------------------------\u001b[0m",
      "\u001b[0;31mNameError\u001b[0m                                 Traceback (most recent call last)",
      "\u001b[0;32m<ipython-input-72-272d430e165c>\u001b[0m in \u001b[0;36m<cell line: 26>\u001b[0;34m()\u001b[0m\n\u001b[1;32m     24\u001b[0m \u001b[0;34m\u001b[0m\u001b[0m\n\u001b[1;32m     25\u001b[0m \u001b[0mgame\u001b[0m \u001b[0;34m=\u001b[0m \u001b[0mGame\u001b[0m\u001b[0;34m(\u001b[0m\u001b[0mHuman\u001b[0m\u001b[0;34m(\u001b[0m\u001b[0;34m)\u001b[0m\u001b[0;34m,\u001b[0m \u001b[0mBot\u001b[0m\u001b[0;34m(\u001b[0m\u001b[0;34m)\u001b[0m\u001b[0;34m)\u001b[0m\u001b[0;34m\u001b[0m\u001b[0;34m\u001b[0m\u001b[0m\n\u001b[0;32m---> 26\u001b[0;31m \u001b[0mgame\u001b[0m\u001b[0;34m.\u001b[0m\u001b[0mrun\u001b[0m\u001b[0;34m(\u001b[0m\u001b[0;34m)\u001b[0m\u001b[0;34m\u001b[0m\u001b[0;34m\u001b[0m\u001b[0m\n\u001b[0m",
      "\u001b[0;32m<ipython-input-72-272d430e165c>\u001b[0m in \u001b[0;36mrun\u001b[0;34m(self)\u001b[0m\n\u001b[1;32m      8\u001b[0m \u001b[0;34m\u001b[0m\u001b[0m\n\u001b[1;32m      9\u001b[0m   \u001b[0;32mdef\u001b[0m \u001b[0mrun\u001b[0m\u001b[0;34m(\u001b[0m\u001b[0mself\u001b[0m\u001b[0;34m)\u001b[0m\u001b[0;34m:\u001b[0m\u001b[0;34m\u001b[0m\u001b[0;34m\u001b[0m\u001b[0m\n\u001b[0;32m---> 10\u001b[0;31m     \u001b[0;32mwhile\u001b[0m \u001b[0mgame_not_over\u001b[0m\u001b[0;34m:\u001b[0m\u001b[0;34m\u001b[0m\u001b[0;34m\u001b[0m\u001b[0m\n\u001b[0m\u001b[1;32m     11\u001b[0m       \u001b[0mplayerX\u001b[0m\u001b[0;34m.\u001b[0m\u001b[0mget_move\u001b[0m\u001b[0;34m(\u001b[0m\u001b[0;34m)\u001b[0m\u001b[0;34m\u001b[0m\u001b[0;34m\u001b[0m\u001b[0m\n\u001b[1;32m     12\u001b[0m       \u001b[0mmake_move\u001b[0m\u001b[0;34m(\u001b[0m\u001b[0mself\u001b[0m\u001b[0;34m.\u001b[0m\u001b[0m_board\u001b[0m\u001b[0;34m,\u001b[0m \u001b[0mcurrent_player\u001b[0m\u001b[0;34m)\u001b[0m\u001b[0;34m\u001b[0m\u001b[0;34m\u001b[0m\u001b[0m\n",
      "\u001b[0;31mNameError\u001b[0m: name 'game_not_over' is not defined"
     ]
    }
   ],
   "source": [
    "# example, not working as not everything is implemented, of Human and bot\n",
    "\n",
    "class Game:\n",
    "  def __init__(self, playerX, playerO):\n",
    "    self._board = Board()\n",
    "    self._playerX = playerX\n",
    "    self._playerO = playerO\n",
    "\n",
    "  def run(self):\n",
    "    while game_not_over:\n",
    "      playerX.get_move()\n",
    "      make_move(self._board, current_player)\n",
    "\n",
    "class Human:\n",
    "  def get_move(self, board):\n",
    "    # input(\"please enter x,y for your move...\")\n",
    "\n",
    "    return parse_move(input())\n",
    "\n",
    "class Bot:\n",
    "  def get_move(self, board):\n",
    "    # x = random.get_random_number()\n",
    "    # y = random.get_random_number()\n",
    "    return some_available_square(board)\n",
    "\n",
    "game = Game(Human(), Bot())\n",
    "game.run()"
   ]
  },
  {
   "cell_type": "markdown",
   "metadata": {
    "id": "prSrKsLDsQEu"
   },
   "source": [
    "# Practice Exercise: Random Move"
   ]
  },
  {
   "cell_type": "code",
   "execution_count": null,
   "metadata": {
    "colab": {
     "base_uri": "https://localhost:8080/"
    },
    "id": "920eZLxbsUUC",
    "outputId": "71a143c4-e89f-420f-e1bc-3f3f5e646936"
   },
   "outputs": [
    {
     "name": "stdout",
     "output_type": "stream",
     "text": [
      "Random Legal move: (2, 1)\n"
     ]
    }
   ],
   "source": [
    "# Given a non-empty Tic Tac Toe board, write a function to pick a random,\n",
    "# legal move. Use the Board class from above\n",
    "import random\n",
    "\n",
    "board = [\n",
    "        [None, None, None],\n",
    "        [None, None, None],\n",
    "        [None, None, None],\n",
    "]\n",
    "\n",
    "def pick_random_move(board):\n",
    "\n",
    "    avaliable_positions = [\n",
    "        (x,y)\n",
    "        for x in range(3)\n",
    "        for y in range(3)\n",
    "        if board[x][y] == None\n",
    "    ]\n",
    "\n",
    "    return random.choice(avaliable_positions)\n",
    "\n",
    "move = pick_random_move(board)\n",
    "\n",
    "if move:\n",
    "    print(f\"Random Legal move: {move}\")\n",
    "else:\n",
    "    print(\"No legal moves available\")\n",
    "\n",
    "# hint: create a list of available positions\n",
    "\n",
    "# hint: use the choice function from random module\n"
   ]
  },
  {
   "cell_type": "markdown",
   "metadata": {
    "id": "3QWzW_qLBQ1I"
   },
   "source": [
    "# Mutable and immutable type IDs\n"
   ]
  },
  {
   "cell_type": "code",
   "execution_count": null,
   "metadata": {
    "colab": {
     "base_uri": "https://localhost:8080/"
    },
    "id": "quZutOqlBGb0",
    "outputId": "5a02aee5-6a76-43cf-d908-264e33d18e25"
   },
   "outputs": [
    {
     "data": {
      "text/plain": [
       "136767341101392"
      ]
     },
     "execution_count": 81,
     "metadata": {},
     "output_type": "execute_result"
    }
   ],
   "source": [
    "num = 4\n",
    "num4 = id(num)\n",
    "num4"
   ]
  },
  {
   "cell_type": "code",
   "execution_count": null,
   "metadata": {
    "colab": {
     "base_uri": "https://localhost:8080/"
    },
    "id": "gwbs5L_ICOr6",
    "outputId": "cf4509a9-31cf-4e93-f232-a00bea4e8b9c"
   },
   "outputs": [
    {
     "name": "stdout",
     "output_type": "stream",
     "text": [
      "6\n"
     ]
    }
   ],
   "source": [
    "num = num + 2\n",
    "print(num)"
   ]
  },
  {
   "cell_type": "code",
   "execution_count": null,
   "metadata": {
    "colab": {
     "base_uri": "https://localhost:8080/"
    },
    "id": "oKLmskZ2CRwh",
    "outputId": "b574d64f-d94d-47c0-bc6f-e650488d5c56"
   },
   "outputs": [
    {
     "data": {
      "text/plain": [
       "False"
      ]
     },
     "execution_count": 83,
     "metadata": {},
     "output_type": "execute_result"
    }
   ],
   "source": [
    "id(num) == num4"
   ]
  },
  {
   "cell_type": "code",
   "execution_count": null,
   "metadata": {
    "colab": {
     "base_uri": "https://localhost:8080/"
    },
    "id": "-FkG4oYICSsB",
    "outputId": "5a5e4152-8fb2-44a3-ee31-b2226c9b09b9"
   },
   "outputs": [
    {
     "data": {
      "text/plain": [
       "2"
      ]
     },
     "execution_count": 84,
     "metadata": {},
     "output_type": "execute_result"
    }
   ],
   "source": [
    "tup = (2,3)\n",
    "tup[0]"
   ]
  },
  {
   "cell_type": "code",
   "execution_count": null,
   "metadata": {
    "colab": {
     "base_uri": "https://localhost:8080/"
    },
    "id": "_G7KOFG8Chhf",
    "outputId": "09a7d1d7-c88d-44d4-c75a-7235e55ad3e4"
   },
   "outputs": [
    {
     "data": {
      "text/plain": [
       "136766015764480"
      ]
     },
     "execution_count": 85,
     "metadata": {},
     "output_type": "execute_result"
    }
   ],
   "source": [
    "id(tup)"
   ]
  },
  {
   "cell_type": "code",
   "execution_count": null,
   "metadata": {
    "id": "x97Z4JRsCiQ3"
   },
   "outputs": [],
   "source": [
    "tup = (3,3)"
   ]
  },
  {
   "cell_type": "code",
   "execution_count": null,
   "metadata": {
    "colab": {
     "base_uri": "https://localhost:8080/"
    },
    "id": "6xcQ2cmPClrP",
    "outputId": "1d370f4f-7cfe-43c7-edea-3d733ddc63f0"
   },
   "outputs": [
    {
     "data": {
      "text/plain": [
       "136766016060864"
      ]
     },
     "execution_count": 87,
     "metadata": {},
     "output_type": "execute_result"
    }
   ],
   "source": [
    "id(tup)"
   ]
  },
  {
   "cell_type": "code",
   "execution_count": null,
   "metadata": {
    "id": "a88qRZzzCtfN"
   },
   "outputs": [],
   "source": [
    "my_dict = {'name':'steve', 'hobby':'reading'}"
   ]
  },
  {
   "cell_type": "code",
   "execution_count": null,
   "metadata": {
    "colab": {
     "base_uri": "https://localhost:8080/"
    },
    "id": "vIOP-wvEC6PU",
    "outputId": "4fdb68b8-9810-480d-886d-483b7972e0c9"
   },
   "outputs": [
    {
     "data": {
      "text/plain": [
       "136766013860032"
      ]
     },
     "execution_count": 89,
     "metadata": {},
     "output_type": "execute_result"
    }
   ],
   "source": [
    "orig = id(my_dict)\n",
    "id(my_dict)"
   ]
  },
  {
   "cell_type": "code",
   "execution_count": null,
   "metadata": {
    "id": "T4AVjvZtC_1L"
   },
   "outputs": [],
   "source": [
    "my_dict['name']='jon'"
   ]
  },
  {
   "cell_type": "code",
   "execution_count": null,
   "metadata": {
    "colab": {
     "base_uri": "https://localhost:8080/"
    },
    "id": "NH8oAaU-DH7L",
    "outputId": "f993edb6-9bd8-4cec-c109-48484a50aac5"
   },
   "outputs": [
    {
     "data": {
      "text/plain": [
       "{'name': 'jon', 'hobby': 'reading'}"
      ]
     },
     "execution_count": 91,
     "metadata": {},
     "output_type": "execute_result"
    }
   ],
   "source": [
    "my_dict"
   ]
  },
  {
   "cell_type": "code",
   "execution_count": null,
   "metadata": {
    "colab": {
     "base_uri": "https://localhost:8080/"
    },
    "id": "jkKFvxBjDI3Q",
    "outputId": "52ccc7b6-22e9-40d3-c3eb-6f2933f5220a"
   },
   "outputs": [
    {
     "data": {
      "text/plain": [
       "True"
      ]
     },
     "execution_count": 92,
     "metadata": {},
     "output_type": "execute_result"
    }
   ],
   "source": [
    "id(my_dict) == orig"
   ]
  },
  {
   "cell_type": "code",
   "execution_count": null,
   "metadata": {
    "id": "GDqb33oufV-b"
   },
   "outputs": [],
   "source": []
  }
 ],
 "metadata": {
  "colab": {
   "provenance": []
  },
  "kernelspec": {
   "display_name": "base",
   "language": "python",
   "name": "python3"
  },
  "language_info": {
   "codemirror_mode": {
    "name": "ipython",
    "version": 3
   },
   "file_extension": ".py",
   "mimetype": "text/x-python",
   "name": "python",
   "nbconvert_exporter": "python",
   "pygments_lexer": "ipython3",
   "version": "3.10.9"
  }
 },
 "nbformat": 4,
 "nbformat_minor": 0
}
